{
  "nbformat": 4,
  "nbformat_minor": 0,
  "metadata": {
    "kernelspec": {
      "display_name": "Python 3",
      "language": "python",
      "name": "python3"
    },
    "language_info": {
      "codemirror_mode": {
        "name": "ipython",
        "version": 3
      },
      "file_extension": ".py",
      "mimetype": "text/x-python",
      "name": "python",
      "nbconvert_exporter": "python",
      "pygments_lexer": "ipython3",
      "version": "3.6.5"
    },
    "colab": {
      "name": "Exercise_4.ipynb",
      "provenance": [],
      "include_colab_link": true
    }
  },
  "cells": [
    {
      "cell_type": "markdown",
      "metadata": {
        "id": "view-in-github",
        "colab_type": "text"
      },
      "source": [
        "<a href=\"https://colab.research.google.com/github/stefaniemeliss/IADS_SC_2022_Python/blob/main/Exercise_4.ipynb\" target=\"_parent\"><img src=\"https://colab.research.google.com/assets/colab-badge.svg\" alt=\"Open In Colab\"/></a>"
      ]
    },
    {
      "cell_type": "markdown",
      "metadata": {
        "id": "ww0ODXCJHsCi"
      },
      "source": [
        "### Strings\n",
        "Strings are ordered text based data which are represented by enclosing the same in single/double/triple quotes."
      ]
    },
    {
      "cell_type": "code",
      "metadata": {
        "id": "55udLE1IHsCj"
      },
      "source": [
        "String0 = 'Paris is beautiful' # single quote\n",
        "String1 = \"Paris is beautiful\" # double quote\n",
        "String2 = '''Paris\n",
        "is\n",
        "beautiful''' # triple quote, allows making paragraphs"
      ],
      "execution_count": 3,
      "outputs": []
    },
    {
      "cell_type": "code",
      "metadata": {
        "id": "U0jyylXWHsCk",
        "outputId": "2d33b66d-75f1-480e-c125-782910bed798",
        "colab": {
          "base_uri": "https://localhost:8080/"
        }
      },
      "source": [
        "print(String0 , type(String0))\n",
        "print(String1, type(String1))\n",
        "print(String2, type(String2))"
      ],
      "execution_count": 5,
      "outputs": [
        {
          "output_type": "stream",
          "name": "stdout",
          "text": [
            "Paris is beautiful <class 'str'>\n",
            "Paris is beautiful <class 'str'>\n",
            "Paris\n",
            "is\n",
            "beautiful <class 'str'>\n"
          ]
        }
      ]
    },
    {
      "cell_type": "code",
      "metadata": {
        "id": "AAuBHA88HsCl",
        "outputId": "3596b49e-c5dc-40bf-ee33-927876714ae3",
        "colab": {
          "base_uri": "https://localhost:8080/"
        }
      },
      "source": [
        "# treat string value like a list\n",
        "\n",
        "print(String0[4]) # index a string\n",
        "print(String0[4:]) # slice a string"
      ],
      "execution_count": 4,
      "outputs": [
        {
          "output_type": "stream",
          "name": "stdout",
          "text": [
            "s\n",
            "s is beautiful\n"
          ]
        }
      ]
    },
    {
      "cell_type": "code",
      "metadata": {
        "id": "7awqW-Z4HsCl",
        "outputId": "891b097f-fdca-414a-9b66-39f27610b5cb",
        "colab": {
          "base_uri": "https://localhost:8080/"
        }
      },
      "source": [
        "# search for element in string --> returns index\n",
        "\n",
        "print(String0.find('ri'))\n",
        "print(String0.find('za'))"
      ],
      "execution_count": 7,
      "outputs": [
        {
          "output_type": "stream",
          "name": "stdout",
          "text": [
            "2\n",
            "-1\n"
          ]
        }
      ]
    },
    {
      "cell_type": "code",
      "metadata": {
        "id": "UAT1Sx2-HsCm",
        "outputId": "d51e48c2-08ef-4c9c-b44e-e1640124f0b6",
        "colab": {
          "base_uri": "https://localhost:8080/"
        }
      },
      "source": [
        "String3 = 'observe the first letter in this string.'\n",
        "print(String3.capitalize()) # converts first letter to capital letter"
      ],
      "execution_count": 12,
      "outputs": [
        {
          "output_type": "stream",
          "name": "stdout",
          "text": [
            "Observe the first letter in this string.\n"
          ]
        }
      ]
    },
    {
      "cell_type": "code",
      "metadata": {
        "id": "72JwNj1wHsCm",
        "outputId": "9a332f9d-4e76-4cb4-aba7-b40ac0124002",
        "colab": {
          "base_uri": "https://localhost:8080/",
          "height": 35
        }
      },
      "source": [
        "String0.center(70) # adds 70 spaces to shift text to center"
      ],
      "execution_count": 14,
      "outputs": [
        {
          "output_type": "execute_result",
          "data": {
            "text/plain": [
              "'                          Paris is beautiful                          '"
            ],
            "application/vnd.google.colaboratory.intrinsic+json": {
              "type": "string"
            }
          },
          "metadata": {},
          "execution_count": 14
        }
      ]
    },
    {
      "cell_type": "code",
      "metadata": {
        "id": "6yJ3gsG6HsCn",
        "outputId": "26f995f6-cf34-4d79-b892-5e41cf2cdf14",
        "colab": {
          "base_uri": "https://localhost:8080/"
        }
      },
      "source": [
        "print(String0.endswith('s')) # check last letter of string"
      ],
      "execution_count": 25,
      "outputs": [
        {
          "output_type": "stream",
          "name": "stdout",
          "text": [
            "False\n"
          ]
        }
      ]
    },
    {
      "cell_type": "code",
      "metadata": {
        "id": "FjC2JFkmHsCo",
        "outputId": "2257d98c-ec24-43bf-b3ea-8929f40d22f2",
        "colab": {
          "base_uri": "https://localhost:8080/"
        }
      },
      "source": [
        "print(String0.count('a',0)) # count occurances of 'a' in string; 0 indicates the range"
      ],
      "execution_count": 24,
      "outputs": [
        {
          "output_type": "stream",
          "name": "stdout",
          "text": [
            "2\n"
          ]
        }
      ]
    },
    {
      "cell_type": "code",
      "metadata": {
        "id": "gxKXCa9PHsCp",
        "outputId": "5b9a2057-9abb-43d1-f745-4b8435a83d28",
        "colab": {
          "base_uri": "https://localhost:8080/"
        }
      },
      "source": [
        "print(String0.count('a',1,10)) # count occurances of 'a' in string; from index 1 to 10"
      ],
      "execution_count": 23,
      "outputs": [
        {
          "output_type": "stream",
          "name": "stdout",
          "text": [
            "1\n"
          ]
        }
      ]
    },
    {
      "cell_type": "code",
      "metadata": {
        "id": "vId7rFoGHsCp",
        "outputId": "c25c909a-04dd-4972-d4af-457a10eb2c63",
        "colab": {
          "base_uri": "https://localhost:8080/",
          "height": 35
        }
      },
      "source": [
        "String0.upper() # write string in all caps"
      ],
      "execution_count": 22,
      "outputs": [
        {
          "output_type": "execute_result",
          "data": {
            "text/plain": [
              "'PARIS IS BEAUTIFUL'"
            ],
            "application/vnd.google.colaboratory.intrinsic+json": {
              "type": "string"
            }
          },
          "metadata": {},
          "execution_count": 22
        }
      ]
    },
    {
      "cell_type": "markdown",
      "metadata": {
        "id": "XNurNtUGHsCq"
      },
      "source": [
        "## Dictionaries\n",
        "Dictionaries are more used like a database because here you can index a particular sequence with your user defined string.\n",
        "\n",
        "To define a dictionary, equate a variable to { } or dict()"
      ]
    },
    {
      "cell_type": "code",
      "metadata": {
        "id": "fEWd6ZjmHsCq",
        "outputId": "21d145cb-1d68-4e74-f7b0-83c02259cef4"
      },
      "source": [
        "d0 = {}\n",
        "d1 = dict()\n",
        "print(type(d0), type(d1))"
      ],
      "execution_count": null,
      "outputs": [
        {
          "output_type": "stream",
          "text": [
            "<class 'dict'> <class 'dict'>\n"
          ],
          "name": "stdout"
        }
      ]
    },
    {
      "cell_type": "code",
      "metadata": {
        "id": "ablooHW5HsCr",
        "outputId": "ca754062-403d-4c3e-9cdb-0c7ef3772c51"
      },
      "source": [
        "# Dictionary works somewhat like a list but with an added capability of assigning it's own index style.\n",
        "d0['One'] = 1\n",
        "d0['OneTwo'] = 12 \n",
        "print(d0)"
      ],
      "execution_count": null,
      "outputs": [
        {
          "output_type": "stream",
          "text": [
            "{'One': 1, 'OneTwo': 12}\n"
          ],
          "name": "stdout"
        }
      ]
    },
    {
      "cell_type": "code",
      "metadata": {
        "id": "o7jCRy8eHsCr",
        "outputId": "e69e7213-a2e6-4a78-ea86-5de8af9b19e3"
      },
      "source": [
        "# That is how a dictionary looks like. Now you are able to access '1' by the index value set at 'One'\n",
        "print(d0['One'])"
      ],
      "execution_count": null,
      "outputs": [
        {
          "output_type": "stream",
          "text": [
            "1\n"
          ],
          "name": "stdout"
        }
      ]
    },
    {
      "cell_type": "code",
      "metadata": {
        "id": "YH65DKKtHsCr"
      },
      "source": [
        "# Two lists which are related can be merged to form a dictionary.\n",
        "keys = ['One', 'Two', 'Three', 'Four', 'Five']\n",
        "values = [1, 2, 3, 4, 5]"
      ],
      "execution_count": null,
      "outputs": []
    },
    {
      "cell_type": "code",
      "metadata": {
        "id": "SL22risrHsCs",
        "outputId": "ada66971-d7ef-4dae-d7a2-857ee7b20df6"
      },
      "source": [
        "# zip( ) function is used to combine two lists\n",
        "dictionary = dict(zip(keys, values))\n",
        "print(dictionary)"
      ],
      "execution_count": null,
      "outputs": [
        {
          "output_type": "stream",
          "text": [
            "{'One': 1, 'Two': 2, 'Three': 3, 'Four': 4, 'Five': 5}\n"
          ],
          "name": "stdout"
        }
      ]
    },
    {
      "cell_type": "markdown",
      "metadata": {
        "id": "aj-YwAu-HsCs"
      },
      "source": [
        "## Control Flow Statements"
      ]
    },
    {
      "cell_type": "code",
      "metadata": {
        "id": "30BalWc_HsCs",
        "outputId": "dce8d117-f91f-4576-b00e-64e78e1f8f13"
      },
      "source": [
        "x = 12\n",
        "if x >10:\n",
        "    print(\"Hello\")"
      ],
      "execution_count": null,
      "outputs": [
        {
          "output_type": "stream",
          "text": [
            "Hello\n"
          ],
          "name": "stdout"
        }
      ]
    },
    {
      "cell_type": "code",
      "metadata": {
        "id": "TtqsIirfHsCs",
        "outputId": "0a5d91e3-d085-4993-ff71-b51ed4b296da"
      },
      "source": [
        "x = 12\n",
        "if x > 10:\n",
        "    print(\"hello\")\n",
        "else:\n",
        "    print(\"world\")"
      ],
      "execution_count": null,
      "outputs": [
        {
          "output_type": "stream",
          "text": [
            "hello\n"
          ],
          "name": "stdout"
        }
      ]
    },
    {
      "cell_type": "code",
      "metadata": {
        "id": "dW_LVyNwHsCt",
        "outputId": "0cd63b54-88e8-48fc-964e-9cd54cf756a9"
      },
      "source": [
        "x = 10\n",
        "y = 12\n",
        "if x > y:\n",
        "    print(\"x>y\")\n",
        "elif x < y:\n",
        "    print(\"x<y\")\n",
        "else:\n",
        "    print(\"x=y\")"
      ],
      "execution_count": null,
      "outputs": [
        {
          "output_type": "stream",
          "text": [
            "x<y\n"
          ],
          "name": "stdout"
        }
      ]
    },
    {
      "cell_type": "code",
      "metadata": {
        "id": "fNGd2ZTSHsCt",
        "outputId": "cc93212d-bd1f-44cd-95a6-655cf8b7a984"
      },
      "source": [
        "x = 10\n",
        "y = 12\n",
        "if x > y:\n",
        "    print(\"x>y\")\n",
        "elif x < y:\n",
        "    print(\"x<y\")\n",
        "    if x==10:\n",
        "        print(\"x=10\")\n",
        "    else:\n",
        "        print(\"invalid\")\n",
        "else:\n",
        "    print(\"x=y\")"
      ],
      "execution_count": null,
      "outputs": [
        {
          "output_type": "stream",
          "text": [
            "x<y\n",
            "x=10\n"
          ],
          "name": "stdout"
        }
      ]
    },
    {
      "cell_type": "markdown",
      "metadata": {
        "id": "Vc8jtpXVHsCt"
      },
      "source": [
        "## Loops"
      ]
    },
    {
      "cell_type": "code",
      "metadata": {
        "id": "imO2uRoSHsCt",
        "outputId": "7da54b56-35cf-4b7a-8f6f-37c28937c5e8"
      },
      "source": [
        "for i in range(5):\n",
        "    print(i)"
      ],
      "execution_count": null,
      "outputs": [
        {
          "output_type": "stream",
          "text": [
            "0\n",
            "1\n",
            "2\n",
            "3\n",
            "4\n"
          ],
          "name": "stdout"
        }
      ]
    },
    {
      "cell_type": "code",
      "metadata": {
        "id": "N3YyX-NRHsCt",
        "outputId": "f94e0e2d-5827-47cd-c93c-d0d93802cdf0"
      },
      "source": [
        "list_of_lists = [[1, 2, 3], [4, 5, 6], [7, 8, 9]]\n",
        "for list1 in list_of_lists:\n",
        "        print(list1)"
      ],
      "execution_count": null,
      "outputs": [
        {
          "output_type": "stream",
          "text": [
            "[1, 2, 3]\n",
            "[4, 5, 6]\n",
            "[7, 8, 9]\n"
          ],
          "name": "stdout"
        }
      ]
    },
    {
      "cell_type": "code",
      "metadata": {
        "id": "wtMW7Eq0HsCu",
        "outputId": "fc09358a-53bd-47f3-d8c7-5a16be40a393"
      },
      "source": [
        "list_of_lists = [[1, 2, 3], [4, 5, 6], [7, 8, 9]]\n",
        "for list1 in list_of_lists:\n",
        "    for x in list1:\n",
        "        print(x)"
      ],
      "execution_count": null,
      "outputs": [
        {
          "output_type": "stream",
          "text": [
            "1\n",
            "2\n",
            "3\n",
            "4\n",
            "5\n",
            "6\n",
            "7\n",
            "8\n",
            "9\n"
          ],
          "name": "stdout"
        }
      ]
    },
    {
      "cell_type": "markdown",
      "metadata": {
        "id": "CgiqGz42HsCu"
      },
      "source": [
        "## While"
      ]
    },
    {
      "cell_type": "code",
      "metadata": {
        "id": "YbpkK5hRHsCu",
        "outputId": "b3661d38-3b05-40f5-cf83-ffb45277e784"
      },
      "source": [
        "i = 1\n",
        "while i < 3:\n",
        "    print(i ** 2)\n",
        "    i = i+1\n",
        "print('Bye')"
      ],
      "execution_count": null,
      "outputs": [
        {
          "output_type": "stream",
          "text": [
            "1\n",
            "4\n",
            "Bye\n"
          ],
          "name": "stdout"
        }
      ]
    },
    {
      "cell_type": "markdown",
      "metadata": {
        "id": "WFDyHlc1HsCu"
      },
      "source": [
        "## Break\n",
        "As the name says. It is used to break out of a loop when a condition becomes true when executing the loop."
      ]
    },
    {
      "cell_type": "code",
      "metadata": {
        "id": "m1EhczXLHsCv",
        "outputId": "19442ed2-06c2-4395-ee9b-d9148b957ffd"
      },
      "source": [
        "for i in range(100):\n",
        "    print(i)\n",
        "    if i>=7:\n",
        "        break"
      ],
      "execution_count": null,
      "outputs": [
        {
          "output_type": "stream",
          "text": [
            "0\n",
            "1\n",
            "2\n",
            "3\n",
            "4\n",
            "5\n",
            "6\n",
            "7\n"
          ],
          "name": "stdout"
        }
      ]
    },
    {
      "cell_type": "markdown",
      "metadata": {
        "id": "c4f58ztDHsCv"
      },
      "source": [
        "## Continue\n",
        "This continues the rest of the loop. Sometimes when a condition is satisfied there are chances of the loop getting terminated. This can be avoided using continue statement."
      ]
    },
    {
      "cell_type": "code",
      "metadata": {
        "id": "RxBaXlZ8HsCv",
        "outputId": "6290de19-8327-4c62-ed0b-209b8cbc7016"
      },
      "source": [
        "for i in range(10):\n",
        "    if i>4:\n",
        "        print(\"The end.\")\n",
        "        continue\n",
        "    elif i<7:\n",
        "        print(i)"
      ],
      "execution_count": null,
      "outputs": [
        {
          "output_type": "stream",
          "text": [
            "0\n",
            "1\n",
            "2\n",
            "3\n",
            "4\n",
            "The end.\n",
            "The end.\n",
            "The end.\n",
            "The end.\n",
            "The end.\n"
          ],
          "name": "stdout"
        }
      ]
    },
    {
      "cell_type": "markdown",
      "metadata": {
        "id": "5N-2y4mYHsCv"
      },
      "source": [
        "### List Comprehensions\n",
        "Python makes it simple to generate a required list with a single line of code using list comprehensions. For example If i need to generate multiples of say 27 I write the code using for loop as,"
      ]
    },
    {
      "cell_type": "code",
      "metadata": {
        "id": "-g_CB3YsHsCv",
        "outputId": "20a17a4c-46b8-460e-9185-384b0e324cf7"
      },
      "source": [
        "res = []\n",
        "for i in range(1,11):\n",
        "    x = 27*i\n",
        "    res.append(x)\n",
        "print(res)"
      ],
      "execution_count": null,
      "outputs": [
        {
          "output_type": "stream",
          "text": [
            "[27, 54, 81, 108, 135, 162, 189, 216, 243, 270]\n"
          ],
          "name": "stdout"
        }
      ]
    },
    {
      "cell_type": "markdown",
      "metadata": {
        "id": "sNY2ge15HsCv"
      },
      "source": [
        "Since you are generating another list altogether and that is what is required, List comprehensions is a more efficient way to solve this problem."
      ]
    },
    {
      "cell_type": "code",
      "metadata": {
        "id": "LFIZCaZlHsCw",
        "outputId": "ce9bd491-f428-4736-8fab-cb05dc8b6504"
      },
      "source": [
        "[27*x for x in range(1,11)]"
      ],
      "execution_count": null,
      "outputs": [
        {
          "output_type": "execute_result",
          "data": {
            "text/plain": [
              "[27, 54, 81, 108, 135, 162, 189, 216, 243, 270]"
            ]
          },
          "metadata": {
            "tags": []
          },
          "execution_count": 66
        }
      ]
    },
    {
      "cell_type": "code",
      "metadata": {
        "id": "sZer4U_WHsCw"
      },
      "source": [
        ""
      ],
      "execution_count": null,
      "outputs": []
    }
  ]
}