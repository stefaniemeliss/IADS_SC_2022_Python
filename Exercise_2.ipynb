{
  "nbformat": 4,
  "nbformat_minor": 0,
  "metadata": {
    "kernelspec": {
      "display_name": "Python 3",
      "language": "python",
      "name": "python3"
    },
    "language_info": {
      "codemirror_mode": {
        "name": "ipython",
        "version": 3
      },
      "file_extension": ".py",
      "mimetype": "text/x-python",
      "name": "python",
      "nbconvert_exporter": "python",
      "pygments_lexer": "ipython3",
      "version": "3.6.5"
    },
    "colab": {
      "name": "Exercise_2.ipynb",
      "provenance": [],
      "include_colab_link": true
    }
  },
  "cells": [
    {
      "cell_type": "markdown",
      "metadata": {
        "id": "view-in-github",
        "colab_type": "text"
      },
      "source": [
        "<a href=\"https://colab.research.google.com/github/stefaniemeliss/IADS_SC_2022_Python/blob/main/Exercise_2.ipynb\" target=\"_parent\"><img src=\"https://colab.research.google.com/assets/colab-badge.svg\" alt=\"Open In Colab\"/></a>"
      ]
    },
    {
      "cell_type": "markdown",
      "metadata": {
        "id": "cWwlaV5cHey3"
      },
      "source": [
        "### Variables\n",
        "A name that is used to denote something or a value is called a variable. In python, variables can be declared and values can be assigned to it as follows,"
      ]
    },
    {
      "cell_type": "code",
      "metadata": {
        "id": "X2tuLpgoHey4"
      },
      "source": [
        "\n",
        "x = 2\n",
        "y = 5\n",
        "xy = 'Hello'"
      ],
      "execution_count": null,
      "outputs": []
    },
    {
      "cell_type": "code",
      "metadata": {
        "id": "NYILo2YiHey5",
        "outputId": "49740503-9fe9-4da3-f274-a5a5195c8a6a"
      },
      "source": [
        "print(x+y, xy)"
      ],
      "execution_count": null,
      "outputs": [
        {
          "output_type": "stream",
          "text": [
            "7 Hello\n"
          ],
          "name": "stdout"
        }
      ]
    },
    {
      "cell_type": "code",
      "metadata": {
        "id": "BI4anghWHey6",
        "outputId": "00872830-9dbf-401e-db78-5d7399ac54fd"
      },
      "source": [
        "# Multiple variables can be assigned with the same value\n",
        "\n",
        "x = y = 1\n",
        "\n",
        "print(x,y)"
      ],
      "execution_count": null,
      "outputs": [
        {
          "output_type": "stream",
          "text": [
            "1 1\n"
          ],
          "name": "stdout"
        }
      ]
    },
    {
      "cell_type": "markdown",
      "metadata": {
        "id": "sGG8ArhZHey6"
      },
      "source": [
        "### Operators\n",
        "\n",
        "#### Arithmetic Operators\n",
        "\n",
        "| Symbol | Task Performed |\n",
        "|----|---|\n",
        "| +  | Addition |\n",
        "| -  | Subtraction |\n",
        "| /  | division |\n",
        "| %  | mod |\n",
        "| *  | multiplication |\n",
        "| //  | floor division |\n",
        "| **  | to the power of |"
      ]
    },
    {
      "cell_type": "code",
      "metadata": {
        "id": "6-wbCWEJHey7",
        "outputId": "fae98893-c7bb-41c3-9242-5f8aaac22bab"
      },
      "source": [
        "1+2"
      ],
      "execution_count": null,
      "outputs": [
        {
          "output_type": "execute_result",
          "data": {
            "text/plain": [
              "3"
            ]
          },
          "metadata": {
            "tags": []
          },
          "execution_count": 7
        }
      ]
    },
    {
      "cell_type": "code",
      "metadata": {
        "id": "ThLzLxExHey7",
        "outputId": "a45e5053-14d0-48fa-a8ef-dc3c49eee699"
      },
      "source": [
        "2-1"
      ],
      "execution_count": null,
      "outputs": [
        {
          "output_type": "execute_result",
          "data": {
            "text/plain": [
              "1"
            ]
          },
          "metadata": {
            "tags": []
          },
          "execution_count": 8
        }
      ]
    },
    {
      "cell_type": "code",
      "metadata": {
        "id": "IkhCStFYHey7",
        "outputId": "8dcd8e1b-da69-4828-832e-3efe07d73a29"
      },
      "source": [
        "1*2"
      ],
      "execution_count": null,
      "outputs": [
        {
          "output_type": "execute_result",
          "data": {
            "text/plain": [
              "2"
            ]
          },
          "metadata": {
            "tags": []
          },
          "execution_count": 9
        }
      ]
    },
    {
      "cell_type": "code",
      "metadata": {
        "id": "FILL-bHDHey8",
        "outputId": "6a751c86-9d64-4c34-a2a2-3f07fd6fb746"
      },
      "source": [
        "1/2"
      ],
      "execution_count": null,
      "outputs": [
        {
          "output_type": "execute_result",
          "data": {
            "text/plain": [
              "0.5"
            ]
          },
          "metadata": {
            "tags": []
          },
          "execution_count": 10
        }
      ]
    },
    {
      "cell_type": "code",
      "metadata": {
        "id": "EGAkuQ58Hey8",
        "outputId": "2ed45516-46a5-4951-cf54-ca00fec6289d"
      },
      "source": [
        "# shows the remainder of the division\n",
        "\n",
        "15%10"
      ],
      "execution_count": null,
      "outputs": [
        {
          "output_type": "execute_result",
          "data": {
            "text/plain": [
              "5"
            ]
          },
          "metadata": {
            "tags": []
          },
          "execution_count": 11
        }
      ]
    },
    {
      "cell_type": "code",
      "metadata": {
        "id": "xpO9xdgyHey8",
        "outputId": "49f12176-3286-4be9-a38a-8d530b034665"
      },
      "source": [
        "#Floor division is nothing but converting the result so obtained to the nearest integer.\n",
        "2.8//2.0"
      ],
      "execution_count": null,
      "outputs": [
        {
          "output_type": "execute_result",
          "data": {
            "text/plain": [
              "1.0"
            ]
          },
          "metadata": {
            "tags": []
          },
          "execution_count": 13
        }
      ]
    },
    {
      "cell_type": "markdown",
      "metadata": {
        "id": "N4mnMEp0Hey8"
      },
      "source": [
        "## Relational Operators\n",
        "| Symbol | Task Performed |\n",
        "|----|---|\n",
        "| == | True, if it is equal |\n",
        "| !=  | True, if not equal to |\n",
        "| < | less than |\n",
        "| > | greater than |\n",
        "| <=  | less than or equal to |\n",
        "| >=  | greater than or equal to |"
      ]
    },
    {
      "cell_type": "code",
      "metadata": {
        "id": "JExkowyRHey9"
      },
      "source": [
        "z = 1"
      ],
      "execution_count": null,
      "outputs": []
    },
    {
      "cell_type": "code",
      "metadata": {
        "id": "2Kzl2rv4Hey9",
        "outputId": "878d79f9-240e-4683-e104-9bb5e5898aa1"
      },
      "source": [
        "z == 1"
      ],
      "execution_count": null,
      "outputs": [
        {
          "output_type": "execute_result",
          "data": {
            "text/plain": [
              "True"
            ]
          },
          "metadata": {
            "tags": []
          },
          "execution_count": 15
        }
      ]
    },
    {
      "cell_type": "code",
      "metadata": {
        "id": "7gi06LjlHey9",
        "outputId": "8dee6d4b-6010-4079-f7f7-6c018950ba8e"
      },
      "source": [
        "z > 1"
      ],
      "execution_count": null,
      "outputs": [
        {
          "output_type": "execute_result",
          "data": {
            "text/plain": [
              "False"
            ]
          },
          "metadata": {
            "tags": []
          },
          "execution_count": 16
        }
      ]
    },
    {
      "cell_type": "code",
      "metadata": {
        "id": "qTOszABhHey-",
        "outputId": "c66d0e8c-a6a0-40e0-ee63-c381c95f4db0"
      },
      "source": [
        "print(round(5.6231))\n",
        "print(round(4.55892, 2))"
      ],
      "execution_count": null,
      "outputs": [
        {
          "output_type": "stream",
          "text": [
            "6\n",
            "4.56\n"
          ],
          "name": "stdout"
        }
      ]
    },
    {
      "cell_type": "code",
      "metadata": {
        "id": "egj5qSNfHey-",
        "outputId": "b7b1d484-01bd-4440-b519-55c53c87f3a9"
      },
      "source": [
        "divmod(9,4)"
      ],
      "execution_count": null,
      "outputs": [
        {
          "output_type": "execute_result",
          "data": {
            "text/plain": [
              "(2, 1)"
            ]
          },
          "metadata": {
            "tags": []
          },
          "execution_count": 29
        }
      ]
    },
    {
      "cell_type": "code",
      "metadata": {
        "id": "S3uYKp0gHey-",
        "outputId": "661b3d02-1323-4d7d-a6d8-41b80407ffec"
      },
      "source": [
        "pow(2,3)"
      ],
      "execution_count": null,
      "outputs": [
        {
          "output_type": "execute_result",
          "data": {
            "text/plain": [
              "8"
            ]
          },
          "metadata": {
            "tags": []
          },
          "execution_count": 30
        }
      ]
    },
    {
      "cell_type": "markdown",
      "metadata": {
        "id": "e0lPv506Hey-"
      },
      "source": [
        "## Print\n",
        "\n",
        "\n",
        "In Python, single, double and triple quotes are used to denote a string. Most use single quotes when declaring a single character. Double quotes when declaring a line and triple quotes when declaring a paragraph/multiple lines."
      ]
    },
    {
      "cell_type": "code",
      "metadata": {
        "id": "awSQ04seHey-",
        "outputId": "6dc6306b-ca6c-48fb-fd2a-cb322c7ae573"
      },
      "source": [
        "print('H')"
      ],
      "execution_count": null,
      "outputs": [
        {
          "output_type": "stream",
          "text": [
            "H\n"
          ],
          "name": "stdout"
        }
      ]
    },
    {
      "cell_type": "code",
      "metadata": {
        "id": "Tpui8PXzHey_",
        "outputId": "3c92e838-48b9-4a15-864c-e7ceddcd28dd"
      },
      "source": [
        "print(\"Hello World\")"
      ],
      "execution_count": null,
      "outputs": [
        {
          "output_type": "stream",
          "text": [
            "Hello World\n"
          ],
          "name": "stdout"
        }
      ]
    },
    {
      "cell_type": "code",
      "metadata": {
        "id": "NvTicvWOHey_",
        "outputId": "6ce3a1b6-dce1-47c7-81b2-99573ce0c411"
      },
      "source": [
        "print(\"\"\"I am from Essex.\n",
        "I love Python.\"\"\")"
      ],
      "execution_count": null,
      "outputs": [
        {
          "output_type": "stream",
          "text": [
            "I am from Essex.\n",
            "I love Python.\n"
          ],
          "name": "stdout"
        }
      ]
    },
    {
      "cell_type": "code",
      "metadata": {
        "id": "cG6FKwn0Hey_",
        "outputId": "56070757-ce83-4a68-b642-3b57f240661b"
      },
      "source": [
        "string1 = \"World\"\n",
        "print(\"Hello\", string1)"
      ],
      "execution_count": null,
      "outputs": [
        {
          "output_type": "stream",
          "text": [
            "Hello World\n"
          ],
          "name": "stdout"
        }
      ]
    },
    {
      "cell_type": "code",
      "metadata": {
        "id": "AEJwrsrLHezA",
        "outputId": "3fa2d983-9fa2-4e5d-d6f9-cd9fc2009025"
      },
      "source": [
        "# , here combines strings with spaces\n",
        "\n",
        "string2 = '!'\n",
        "print(\"Hello\", string1, string2)"
      ],
      "execution_count": null,
      "outputs": [
        {
          "output_type": "stream",
          "text": [
            "Hello World !\n"
          ],
          "name": "stdout"
        }
      ]
    },
    {
      "cell_type": "code",
      "metadata": {
        "id": "NtLNDD0EHezA",
        "outputId": "e0213f2d-cb95-4fd3-8276-f3c0cd7ef1d6"
      },
      "source": [
        "# + here combines strings without spaces\n",
        "\n",
        "print(\"Hello\" + string1 + string2)"
      ],
      "execution_count": null,
      "outputs": [
        {
          "output_type": "stream",
          "text": [
            "HelloWorld!\n"
          ],
          "name": "stdout"
        }
      ]
    },
    {
      "cell_type": "code",
      "metadata": {
        "id": "xL047F7qHezA",
        "outputId": "a76f59b0-9f1c-4403-9240-927616d8ab10"
      },
      "source": [
        "# % functions as a place holder \n",
        "# s - string\n",
        "# d - integer\n",
        "# f - float\n",
        "\n",
        "\n",
        "print(\"Hello %s\" % string1)"
      ],
      "execution_count": null,
      "outputs": [
        {
          "output_type": "stream",
          "text": [
            "Hello World\n"
          ],
          "name": "stdout"
        }
      ]
    },
    {
      "cell_type": "code",
      "metadata": {
        "id": "jpz-UfI7HezA",
        "outputId": "5f85da2c-4344-483d-f485-ca65b22a974b"
      },
      "source": [
        "print(\"Actual Number = %d\" %18)\n",
        "print(\"Float of the number = %f\" %18)"
      ],
      "execution_count": null,
      "outputs": [
        {
          "output_type": "stream",
          "text": [
            "Actual Number = 18\n",
            "Float of the number = 18.000000\n"
          ],
          "name": "stdout"
        }
      ]
    },
    {
      "cell_type": "code",
      "metadata": {
        "id": "1lU4rsAuHezA",
        "outputId": "02fa915c-b9db-49ee-cd12-39631f874105"
      },
      "source": [
        "print(\"Hello %s %s\" %(string1,string2))"
      ],
      "execution_count": null,
      "outputs": [
        {
          "output_type": "stream",
          "text": [
            "Hello World !\n"
          ],
          "name": "stdout"
        }
      ]
    },
    {
      "cell_type": "code",
      "metadata": {
        "id": "0slTpDZtHezB",
        "colab": {
          "base_uri": "https://localhost:8080/"
        },
        "outputId": "4597dca9-5241-48e0-946d-332dd3372f3e"
      },
      "source": [
        "# a number can be converted into a string\n",
        "\n",
        "print(\"Actual Number = %s\" %18)"
      ],
      "execution_count": 3,
      "outputs": [
        {
          "output_type": "stream",
          "name": "stdout",
          "text": [
            "Actual Number = 18\n"
          ]
        }
      ]
    }
  ]
}