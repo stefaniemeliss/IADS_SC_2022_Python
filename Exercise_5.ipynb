{
  "nbformat": 4,
  "nbformat_minor": 0,
  "metadata": {
    "kernelspec": {
      "display_name": "Python 3",
      "language": "python",
      "name": "python3"
    },
    "language_info": {
      "codemirror_mode": {
        "name": "ipython",
        "version": 3
      },
      "file_extension": ".py",
      "mimetype": "text/x-python",
      "name": "python",
      "nbconvert_exporter": "python",
      "pygments_lexer": "ipython3",
      "version": "3.6.5"
    },
    "colab": {
      "name": "Exercise_5.ipynb",
      "provenance": [],
      "collapsed_sections": [],
      "include_colab_link": true
    }
  },
  "cells": [
    {
      "cell_type": "markdown",
      "metadata": {
        "id": "view-in-github",
        "colab_type": "text"
      },
      "source": [
        "<a href=\"https://colab.research.google.com/github/stefaniemeliss/IADS_SC_2022_Python/blob/main/Exercise_5.ipynb\" target=\"_parent\"><img src=\"https://colab.research.google.com/assets/colab-badge.svg\" alt=\"Open In Colab\"/></a>"
      ]
    },
    {
      "cell_type": "markdown",
      "metadata": {
        "id": "U0dSimxOHsoP"
      },
      "source": [
        "## Functions\n",
        "Most of the times, In a algorithm the statements keep repeating and it will be a tedious job to execute the same statements again and again and will consume a lot of memory and is not efficient. Enter Functions."
      ]
    },
    {
      "cell_type": "code",
      "metadata": {
        "id": "D_g9SzQCHsoQ",
        "outputId": "379c5532-847e-4f67-ce13-45b425b91a11",
        "colab": {
          "base_uri": "https://localhost:8080/"
        }
      },
      "source": [
        "print(\"Hey Adam!\")\n",
        "print(\"Adam, How do you do?\")"
      ],
      "execution_count": 1,
      "outputs": [
        {
          "output_type": "stream",
          "name": "stdout",
          "text": [
            "Hey Adam!\n",
            "Adam, How do you do?\n"
          ]
        }
      ]
    },
    {
      "cell_type": "code",
      "metadata": {
        "id": "lByOntO5HsoR"
      },
      "source": [
        "def firstfunc():\n",
        "    print(\"Hey Adam!\")\n",
        "    print(\"Adam, How do you do?\")"
      ],
      "execution_count": 2,
      "outputs": []
    },
    {
      "cell_type": "code",
      "metadata": {
        "id": "zzsKDSiLHsoS",
        "outputId": "2465ed12-b011-48a6-a71f-346a776b4dbd",
        "colab": {
          "base_uri": "https://localhost:8080/"
        }
      },
      "source": [
        "firstfunc()"
      ],
      "execution_count": 3,
      "outputs": [
        {
          "output_type": "stream",
          "name": "stdout",
          "text": [
            "Hey Adam!\n",
            "Adam, How do you do?\n"
          ]
        }
      ]
    },
    {
      "cell_type": "markdown",
      "metadata": {
        "id": "VUJSk6BQHsoS"
      },
      "source": [
        "**firstfunc()** every time just prints the message to a single person. We can make our function **firstfunc()** to accept arguements which will store the name and then prints respective to that accepted name. To do so, add a argument within the function as shown."
      ]
    },
    {
      "cell_type": "code",
      "metadata": {
        "id": "oIJtGBMLHsoT"
      },
      "source": [
        "def firstfunc1(username):\n",
        "    print(\"Hey\", username + '!')\n",
        "    print(username + ',' ,\"How do you do?\")"
      ],
      "execution_count": 4,
      "outputs": []
    },
    {
      "cell_type": "code",
      "metadata": {
        "id": "g1VCpniCHsoT",
        "outputId": "ec07422e-4d3d-4d0e-e005-ff76827ca5b3",
        "colab": {
          "base_uri": "https://localhost:8080/"
        }
      },
      "source": [
        "name1 = firstfunc1('Haider : ')"
      ],
      "execution_count": 5,
      "outputs": [
        {
          "output_type": "stream",
          "name": "stdout",
          "text": [
            "Hey Haider : !\n",
            "Haider : , How do you do?\n"
          ]
        }
      ]
    },
    {
      "cell_type": "code",
      "metadata": {
        "outputId": "3e2da13f-fd2b-4c85-c3b1-5890a479b829",
        "colab": {
          "base_uri": "https://localhost:8080/"
        },
        "id": "nAWi8wklywPP"
      },
      "source": [
        "name2 = firstfunc1('Stef')"
      ],
      "execution_count": 6,
      "outputs": [
        {
          "output_type": "stream",
          "name": "stdout",
          "text": [
            "Hey Stef!\n",
            "Stef, How do you do?\n"
          ]
        }
      ]
    },
    {
      "cell_type": "markdown",
      "metadata": {
        "id": "8ZZHhrbEHsoU"
      },
      "source": [
        "## Return Statement\n",
        "\n",
        "When the function results in some value and that value has to be stored in a variable or needs to be sent back or returned for further operation to the main algorithm, return statement is used."
      ]
    },
    {
      "cell_type": "code",
      "metadata": {
        "id": "SxBgbqqqHsoV"
      },
      "source": [
        "def times(x,y):\n",
        "    z = x*y\n",
        "    return(z)"
      ],
      "execution_count": 10,
      "outputs": []
    },
    {
      "cell_type": "code",
      "metadata": {
        "id": "9itjcYmoHsoW",
        "outputId": "7918f4f7-e911-475f-cbbb-0655e2b8fa8a",
        "colab": {
          "base_uri": "https://localhost:8080/"
        }
      },
      "source": [
        "times(5,6)"
      ],
      "execution_count": 11,
      "outputs": [
        {
          "output_type": "execute_result",
          "data": {
            "text/plain": [
              "30"
            ]
          },
          "metadata": {},
          "execution_count": 11
        }
      ]
    },
    {
      "cell_type": "code",
      "metadata": {
        "id": "uHQ6hwIYHsoW",
        "outputId": "666e0322-4ee8-4853-94d6-2fa513126ef8",
        "colab": {
          "base_uri": "https://localhost:8080/"
        }
      },
      "source": [
        "c = times(4,5)\n",
        "print(c)"
      ],
      "execution_count": 12,
      "outputs": [
        {
          "output_type": "stream",
          "name": "stdout",
          "text": [
            "20\n"
          ]
        }
      ]
    },
    {
      "cell_type": "code",
      "metadata": {
        "id": "KPmC4XlRHsoW"
      },
      "source": [
        "eglist = [10,50,30,12,6,8,100]"
      ],
      "execution_count": 13,
      "outputs": []
    },
    {
      "cell_type": "code",
      "metadata": {
        "id": "QjihO8MBHsoX"
      },
      "source": [
        "def egfunc(eglist):\n",
        "    highest = max(eglist)\n",
        "    lowest = min(eglist)\n",
        "    first = eglist[0]\n",
        "    last = eglist[-1]\n",
        "    return highest, lowest, first, last"
      ],
      "execution_count": 16,
      "outputs": []
    },
    {
      "cell_type": "code",
      "metadata": {
        "id": "r1YsDmDyHsoX",
        "outputId": "4740cf47-607e-492d-fd1a-b8f413de354d",
        "colab": {
          "base_uri": "https://localhost:8080/"
        }
      },
      "source": [
        "egfunc(eglist)"
      ],
      "execution_count": 17,
      "outputs": [
        {
          "output_type": "execute_result",
          "data": {
            "text/plain": [
              "(100, 6, 10, 100)"
            ]
          },
          "metadata": {},
          "execution_count": 17
        }
      ]
    },
    {
      "cell_type": "markdown",
      "metadata": {
        "id": "0ohycnZrHsoX"
      },
      "source": [
        "## Implicit arguments\n",
        "\n",
        "When an argument of a function is common in majority of the cases or it is \"implicit\" this concept is used."
      ]
    },
    {
      "cell_type": "code",
      "metadata": {
        "id": "VPyeIubTHsoX"
      },
      "source": [
        "def implicitadd(x,y=3):\n",
        "    return x+y"
      ],
      "execution_count": 18,
      "outputs": []
    },
    {
      "cell_type": "code",
      "metadata": {
        "id": "HQhJ4VmLHsoY",
        "outputId": "a0f9215c-31f1-4a1c-bc4a-69e70b628fb6",
        "colab": {
          "base_uri": "https://localhost:8080/"
        }
      },
      "source": [
        "implicitadd(4) # if no y is given, it will be set to 3 based on how the function was defined"
      ],
      "execution_count": 21,
      "outputs": [
        {
          "output_type": "execute_result",
          "data": {
            "text/plain": [
              "7"
            ]
          },
          "metadata": {},
          "execution_count": 21
        }
      ]
    },
    {
      "cell_type": "code",
      "metadata": {
        "id": "HGsK8HkxHsoY",
        "outputId": "b4256072-bbf9-45f6-8b80-82d7cd6bf120",
        "colab": {
          "base_uri": "https://localhost:8080/"
        }
      },
      "source": [
        "implicitadd(4,6) # here. the default y=3 is overwritten by 6"
      ],
      "execution_count": 24,
      "outputs": [
        {
          "output_type": "execute_result",
          "data": {
            "text/plain": [
              "10"
            ]
          },
          "metadata": {},
          "execution_count": 24
        }
      ]
    }
  ]
}